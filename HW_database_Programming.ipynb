{
  "nbformat": 4,
  "nbformat_minor": 0,
  "metadata": {
    "colab": {
      "name": "HW: database Programming",
      "provenance": [],
      "mount_file_id": "1cK9lo_iZGLycbaSWjTtTl12R3fHjDpil",
      "authorship_tag": "ABX9TyNupCiSBGh/2lhH46Dz9kto",
      "include_colab_link": true
    },
    "kernelspec": {
      "name": "python3",
      "display_name": "Python 3"
    },
    "language_info": {
      "name": "python"
    }
  },
  "cells": [
    {
      "cell_type": "markdown",
      "metadata": {
        "id": "view-in-github",
        "colab_type": "text"
      },
      "source": [
        "<a href=\"https://colab.research.google.com/github/akbarmaa/digitalskola_ds11/blob/main/HW_database_Programming.ipynb\" target=\"_parent\"><img src=\"https://colab.research.google.com/assets/colab-badge.svg\" alt=\"Open In Colab\"/></a>"
      ]
    },
    {
      "cell_type": "markdown",
      "source": [
        "Database Programming\n",
        "task : Membuat database dengan menggunakan Pandas\n",
        "__________________________________________________________\n",
        "\n",
        "**Muhammad Ali Akbar**"
      ],
      "metadata": {
        "id": "J3BoFsf-lynY"
      }
    },
    {
      "cell_type": "code",
      "execution_count": null,
      "metadata": {
        "id": "Q63npKHW7MMD"
      },
      "outputs": [],
      "source": [
        "import pandas as pd\n",
        "import matplotlib.pyplot as plt\n",
        "import seaborn as sns"
      ]
    },
    {
      "cell_type": "code",
      "source": [
        "from google.colab import drive\n",
        "drive.mount('/content/drive')"
      ],
      "metadata": {
        "colab": {
          "base_uri": "https://localhost:8080/"
        },
        "id": "clsdtJXWAZVX",
        "outputId": "94568328-f508-44e4-b4cd-a842fadb3f19"
      },
      "execution_count": null,
      "outputs": [
        {
          "output_type": "stream",
          "name": "stdout",
          "text": [
            "Drive already mounted at /content/drive; to attempt to forcibly remount, call drive.mount(\"/content/drive\", force_remount=True).\n"
          ]
        }
      ]
    },
    {
      "cell_type": "code",
      "source": [
        "path = \"/content/drive/MyDrive/File Datascience/saham.txt\""
      ],
      "metadata": {
        "id": "fWjHbyRQAhGY"
      },
      "execution_count": null,
      "outputs": []
    },
    {
      "cell_type": "code",
      "source": [
        "!pip install psycopg2"
      ],
      "metadata": {
        "id": "3byCWvSxBh5p",
        "colab": {
          "base_uri": "https://localhost:8080/"
        },
        "outputId": "11f472ac-6a3a-428e-e2d6-349e3d44f5c2"
      },
      "execution_count": null,
      "outputs": [
        {
          "output_type": "stream",
          "name": "stdout",
          "text": [
            "Requirement already satisfied: psycopg2 in /usr/local/lib/python3.7/dist-packages (2.7.6.1)\n"
          ]
        }
      ]
    },
    {
      "cell_type": "code",
      "source": [
        "import psycopg2"
      ],
      "metadata": {
        "id": "5MDVx5dDCa82",
        "colab": {
          "base_uri": "https://localhost:8080/"
        },
        "outputId": "4a6ec43f-f617-4abe-997b-33a8a60bc1cb"
      },
      "execution_count": null,
      "outputs": [
        {
          "output_type": "stream",
          "name": "stderr",
          "text": [
            "/usr/local/lib/python3.7/dist-packages/psycopg2/__init__.py:144: UserWarning: The psycopg2 wheel package will be renamed from release 2.8; in order to keep installing from binary please use \"pip install psycopg2-binary\" instead. For details see: <http://initd.org/psycopg/docs/install.html#binary-install-from-pypi>.\n",
            "  \"\"\")\n"
          ]
        }
      ]
    },
    {
      "cell_type": "code",
      "source": [
        "conn = psycopg2. connect( \n",
        "    host = \"digitalskoladb.c04me33o8tni.ap-southeast-1.rds.amazonaws.com\",\n",
        "    database = \"sandbox\",\n",
        "    user= \"ds11_6\",\n",
        "    password = \"ds11_6\"\n",
        ")"
      ],
      "metadata": {
        "id": "-N3CaJg5CI6p"
      },
      "execution_count": null,
      "outputs": []
    },
    {
      "cell_type": "code",
      "source": [
        "cur = conn.cursor()"
      ],
      "metadata": {
        "id": "VQ6B6NJ7DGZW"
      },
      "execution_count": null,
      "outputs": []
    },
    {
      "cell_type": "code",
      "source": [
        "sql = \"select * from batch_11.cb_stations\"\n",
        "cur.execute(sql)"
      ],
      "metadata": {
        "id": "dSKKf6KrGEJV"
      },
      "execution_count": null,
      "outputs": []
    },
    {
      "cell_type": "code",
      "source": [
        "cur.fetchone()"
      ],
      "metadata": {
        "colab": {
          "base_uri": "https://localhost:8080/"
        },
        "id": "TEt38nouF9WM",
        "outputId": "58a4ac1c-e2d5-4a5e-81ae-15c0697d14aa"
      },
      "execution_count": null,
      "outputs": [
        {
          "output_type": "execute_result",
          "data": {
            "text/plain": [
              "(128,\n",
              " 'MacDougal St & Prince St',\n",
              " '5687.04',\n",
              " 40.727104,\n",
              " -74.00297,\n",
              " 71,\n",
              " 'CREDITCARD,KEY',\n",
              " 0,\n",
              " False,\n",
              " 0,\n",
              " 0,\n",
              " 0,\n",
              " 0,\n",
              " False,\n",
              " False,\n",
              " False,\n",
              " False,\n",
              " datetime.datetime(1970, 1, 1, 0, 0))"
            ]
          },
          "metadata": {},
          "execution_count": 15
        }
      ]
    },
    {
      "cell_type": "code",
      "source": [
        "#pandas dataframe\n",
        "sql = \"\"\" select * FROM batch_11.cb_stations\"\"\"\n",
        "data = pd.read_sql_query(sql, conn)\n",
        "data.head()"
      ],
      "metadata": {
        "colab": {
          "base_uri": "https://localhost:8080/",
          "height": 408
        },
        "id": "vBASeU1lDXhe",
        "outputId": "d29b157b-1510-406e-c4f3-0810902b3ff3"
      },
      "execution_count": null,
      "outputs": [
        {
          "output_type": "execute_result",
          "data": {
            "text/html": [
              "\n",
              "  <div id=\"df-8711b75b-88c0-4fcb-958b-499579d1dc70\">\n",
              "    <div class=\"colab-df-container\">\n",
              "      <div>\n",
              "<style scoped>\n",
              "    .dataframe tbody tr th:only-of-type {\n",
              "        vertical-align: middle;\n",
              "    }\n",
              "\n",
              "    .dataframe tbody tr th {\n",
              "        vertical-align: top;\n",
              "    }\n",
              "\n",
              "    .dataframe thead th {\n",
              "        text-align: right;\n",
              "    }\n",
              "</style>\n",
              "<table border=\"1\" class=\"dataframe\">\n",
              "  <thead>\n",
              "    <tr style=\"text-align: right;\">\n",
              "      <th></th>\n",
              "      <th>station_id</th>\n",
              "      <th>name</th>\n",
              "      <th>short_name</th>\n",
              "      <th>latitude</th>\n",
              "      <th>longitude</th>\n",
              "      <th>region_id</th>\n",
              "      <th>rental_methods</th>\n",
              "      <th>capacity</th>\n",
              "      <th>eightd_has_key_dispenser</th>\n",
              "      <th>num_bikes_available</th>\n",
              "      <th>num_bikes_disabled</th>\n",
              "      <th>num_docks_available</th>\n",
              "      <th>num_docks_disabled</th>\n",
              "      <th>is_installed</th>\n",
              "      <th>is_renting</th>\n",
              "      <th>is_returning</th>\n",
              "      <th>eightd_has_available_keys</th>\n",
              "      <th>last_reported</th>\n",
              "    </tr>\n",
              "  </thead>\n",
              "  <tbody>\n",
              "    <tr>\n",
              "      <th>0</th>\n",
              "      <td>128</td>\n",
              "      <td>MacDougal St &amp; Prince St</td>\n",
              "      <td>5687.04</td>\n",
              "      <td>40.727104</td>\n",
              "      <td>-74.002970</td>\n",
              "      <td>71.0</td>\n",
              "      <td>CREDITCARD,KEY</td>\n",
              "      <td>0</td>\n",
              "      <td>False</td>\n",
              "      <td>0</td>\n",
              "      <td>0</td>\n",
              "      <td>0</td>\n",
              "      <td>0</td>\n",
              "      <td>False</td>\n",
              "      <td>False</td>\n",
              "      <td>False</td>\n",
              "      <td>False</td>\n",
              "      <td>1970-01-01</td>\n",
              "    </tr>\n",
              "    <tr>\n",
              "      <th>1</th>\n",
              "      <td>224</td>\n",
              "      <td>Spruce St &amp; Nassau St</td>\n",
              "      <td>5137.10</td>\n",
              "      <td>40.711464</td>\n",
              "      <td>-74.005520</td>\n",
              "      <td>71.0</td>\n",
              "      <td>CREDITCARD,KEY</td>\n",
              "      <td>0</td>\n",
              "      <td>False</td>\n",
              "      <td>0</td>\n",
              "      <td>0</td>\n",
              "      <td>0</td>\n",
              "      <td>0</td>\n",
              "      <td>True</td>\n",
              "      <td>True</td>\n",
              "      <td>True</td>\n",
              "      <td>False</td>\n",
              "      <td>1970-01-01</td>\n",
              "    </tr>\n",
              "    <tr>\n",
              "      <th>2</th>\n",
              "      <td>229</td>\n",
              "      <td>Great Jones St</td>\n",
              "      <td>5636.11</td>\n",
              "      <td>40.727436</td>\n",
              "      <td>-73.993790</td>\n",
              "      <td>71.0</td>\n",
              "      <td>CREDITCARD,KEY</td>\n",
              "      <td>0</td>\n",
              "      <td>False</td>\n",
              "      <td>0</td>\n",
              "      <td>0</td>\n",
              "      <td>0</td>\n",
              "      <td>0</td>\n",
              "      <td>False</td>\n",
              "      <td>False</td>\n",
              "      <td>False</td>\n",
              "      <td>False</td>\n",
              "      <td>1970-01-01</td>\n",
              "    </tr>\n",
              "    <tr>\n",
              "      <th>3</th>\n",
              "      <td>410</td>\n",
              "      <td>Suffolk St &amp; Stanton St</td>\n",
              "      <td>5445.02</td>\n",
              "      <td>40.720665</td>\n",
              "      <td>-73.985176</td>\n",
              "      <td>71.0</td>\n",
              "      <td>CREDITCARD,KEY</td>\n",
              "      <td>0</td>\n",
              "      <td>False</td>\n",
              "      <td>0</td>\n",
              "      <td>0</td>\n",
              "      <td>0</td>\n",
              "      <td>0</td>\n",
              "      <td>False</td>\n",
              "      <td>False</td>\n",
              "      <td>False</td>\n",
              "      <td>False</td>\n",
              "      <td>1970-01-01</td>\n",
              "    </tr>\n",
              "    <tr>\n",
              "      <th>4</th>\n",
              "      <td>434</td>\n",
              "      <td>9 Ave &amp; W 18 St</td>\n",
              "      <td>6190.08</td>\n",
              "      <td>40.743176</td>\n",
              "      <td>-74.003660</td>\n",
              "      <td>71.0</td>\n",
              "      <td>CREDITCARD,KEY</td>\n",
              "      <td>0</td>\n",
              "      <td>False</td>\n",
              "      <td>0</td>\n",
              "      <td>0</td>\n",
              "      <td>0</td>\n",
              "      <td>0</td>\n",
              "      <td>False</td>\n",
              "      <td>False</td>\n",
              "      <td>False</td>\n",
              "      <td>False</td>\n",
              "      <td>1970-01-01</td>\n",
              "    </tr>\n",
              "  </tbody>\n",
              "</table>\n",
              "</div>\n",
              "      <button class=\"colab-df-convert\" onclick=\"convertToInteractive('df-8711b75b-88c0-4fcb-958b-499579d1dc70')\"\n",
              "              title=\"Convert this dataframe to an interactive table.\"\n",
              "              style=\"display:none;\">\n",
              "        \n",
              "  <svg xmlns=\"http://www.w3.org/2000/svg\" height=\"24px\"viewBox=\"0 0 24 24\"\n",
              "       width=\"24px\">\n",
              "    <path d=\"M0 0h24v24H0V0z\" fill=\"none\"/>\n",
              "    <path d=\"M18.56 5.44l.94 2.06.94-2.06 2.06-.94-2.06-.94-.94-2.06-.94 2.06-2.06.94zm-11 1L8.5 8.5l.94-2.06 2.06-.94-2.06-.94L8.5 2.5l-.94 2.06-2.06.94zm10 10l.94 2.06.94-2.06 2.06-.94-2.06-.94-.94-2.06-.94 2.06-2.06.94z\"/><path d=\"M17.41 7.96l-1.37-1.37c-.4-.4-.92-.59-1.43-.59-.52 0-1.04.2-1.43.59L10.3 9.45l-7.72 7.72c-.78.78-.78 2.05 0 2.83L4 21.41c.39.39.9.59 1.41.59.51 0 1.02-.2 1.41-.59l7.78-7.78 2.81-2.81c.8-.78.8-2.07 0-2.86zM5.41 20L4 18.59l7.72-7.72 1.47 1.35L5.41 20z\"/>\n",
              "  </svg>\n",
              "      </button>\n",
              "      \n",
              "  <style>\n",
              "    .colab-df-container {\n",
              "      display:flex;\n",
              "      flex-wrap:wrap;\n",
              "      gap: 12px;\n",
              "    }\n",
              "\n",
              "    .colab-df-convert {\n",
              "      background-color: #E8F0FE;\n",
              "      border: none;\n",
              "      border-radius: 50%;\n",
              "      cursor: pointer;\n",
              "      display: none;\n",
              "      fill: #1967D2;\n",
              "      height: 32px;\n",
              "      padding: 0 0 0 0;\n",
              "      width: 32px;\n",
              "    }\n",
              "\n",
              "    .colab-df-convert:hover {\n",
              "      background-color: #E2EBFA;\n",
              "      box-shadow: 0px 1px 2px rgba(60, 64, 67, 0.3), 0px 1px 3px 1px rgba(60, 64, 67, 0.15);\n",
              "      fill: #174EA6;\n",
              "    }\n",
              "\n",
              "    [theme=dark] .colab-df-convert {\n",
              "      background-color: #3B4455;\n",
              "      fill: #D2E3FC;\n",
              "    }\n",
              "\n",
              "    [theme=dark] .colab-df-convert:hover {\n",
              "      background-color: #434B5C;\n",
              "      box-shadow: 0px 1px 3px 1px rgba(0, 0, 0, 0.15);\n",
              "      filter: drop-shadow(0px 1px 2px rgba(0, 0, 0, 0.3));\n",
              "      fill: #FFFFFF;\n",
              "    }\n",
              "  </style>\n",
              "\n",
              "      <script>\n",
              "        const buttonEl =\n",
              "          document.querySelector('#df-8711b75b-88c0-4fcb-958b-499579d1dc70 button.colab-df-convert');\n",
              "        buttonEl.style.display =\n",
              "          google.colab.kernel.accessAllowed ? 'block' : 'none';\n",
              "\n",
              "        async function convertToInteractive(key) {\n",
              "          const element = document.querySelector('#df-8711b75b-88c0-4fcb-958b-499579d1dc70');\n",
              "          const dataTable =\n",
              "            await google.colab.kernel.invokeFunction('convertToInteractive',\n",
              "                                                     [key], {});\n",
              "          if (!dataTable) return;\n",
              "\n",
              "          const docLinkHtml = 'Like what you see? Visit the ' +\n",
              "            '<a target=\"_blank\" href=https://colab.research.google.com/notebooks/data_table.ipynb>data table notebook</a>'\n",
              "            + ' to learn more about interactive tables.';\n",
              "          element.innerHTML = '';\n",
              "          dataTable['output_type'] = 'display_data';\n",
              "          await google.colab.output.renderOutput(dataTable, element);\n",
              "          const docLink = document.createElement('div');\n",
              "          docLink.innerHTML = docLinkHtml;\n",
              "          element.appendChild(docLink);\n",
              "        }\n",
              "      </script>\n",
              "    </div>\n",
              "  </div>\n",
              "  "
            ],
            "text/plain": [
              "   station_id  ... last_reported\n",
              "0         128  ...    1970-01-01\n",
              "1         224  ...    1970-01-01\n",
              "2         229  ...    1970-01-01\n",
              "3         410  ...    1970-01-01\n",
              "4         434  ...    1970-01-01\n",
              "\n",
              "[5 rows x 18 columns]"
            ]
          },
          "metadata": {},
          "execution_count": 16
        }
      ]
    },
    {
      "cell_type": "code",
      "source": [
        "#query dari digitalskola\n",
        "data.info()"
      ],
      "metadata": {
        "colab": {
          "base_uri": "https://localhost:8080/"
        },
        "id": "CQzLSwWXKWGk",
        "outputId": "0a139abe-6279-4d0b-c873-9640b105bdcb"
      },
      "execution_count": null,
      "outputs": [
        {
          "output_type": "stream",
          "name": "stdout",
          "text": [
            "<class 'pandas.core.frame.DataFrame'>\n",
            "RangeIndex: 1584 entries, 0 to 1583\n",
            "Data columns (total 18 columns):\n",
            " #   Column                     Non-Null Count  Dtype         \n",
            "---  ------                     --------------  -----         \n",
            " 0   station_id                 1584 non-null   int64         \n",
            " 1   name                       1584 non-null   object        \n",
            " 2   short_name                 1584 non-null   object        \n",
            " 3   latitude                   1584 non-null   float64       \n",
            " 4   longitude                  1584 non-null   float64       \n",
            " 5   region_id                  1578 non-null   float64       \n",
            " 6   rental_methods             1584 non-null   object        \n",
            " 7   capacity                   1584 non-null   int64         \n",
            " 8   eightd_has_key_dispenser   1584 non-null   bool          \n",
            " 9   num_bikes_available        1584 non-null   int64         \n",
            " 10  num_bikes_disabled         1584 non-null   int64         \n",
            " 11  num_docks_available        1584 non-null   int64         \n",
            " 12  num_docks_disabled         1584 non-null   int64         \n",
            " 13  is_installed               1584 non-null   bool          \n",
            " 14  is_renting                 1584 non-null   bool          \n",
            " 15  is_returning               1584 non-null   bool          \n",
            " 16  eightd_has_available_keys  1584 non-null   bool          \n",
            " 17  last_reported              1584 non-null   datetime64[ns]\n",
            "dtypes: bool(5), datetime64[ns](1), float64(3), int64(6), object(3)\n",
            "memory usage: 168.7+ KB\n"
          ]
        }
      ]
    },
    {
      "cell_type": "code",
      "source": [
        "#pandas dataframe\n",
        "sql = \"\"\" select * FROM batch_11.cb_trips\"\"\"\n",
        "data10 = pd.read_sql_query(sql, conn)\n",
        "data10.head()"
      ],
      "metadata": {
        "colab": {
          "base_uri": "https://localhost:8080/",
          "height": 478
        },
        "id": "kAmPeb0_Zqzn",
        "outputId": "4517b4a0-316d-44c7-a59a-fdba3c88c121"
      },
      "execution_count": null,
      "outputs": [
        {
          "output_type": "execute_result",
          "data": {
            "text/html": [
              "\n",
              "  <div id=\"df-2ab272ab-4c78-4522-bc97-b20d827395c4\">\n",
              "    <div class=\"colab-df-container\">\n",
              "      <div>\n",
              "<style scoped>\n",
              "    .dataframe tbody tr th:only-of-type {\n",
              "        vertical-align: middle;\n",
              "    }\n",
              "\n",
              "    .dataframe tbody tr th {\n",
              "        vertical-align: top;\n",
              "    }\n",
              "\n",
              "    .dataframe thead th {\n",
              "        text-align: right;\n",
              "    }\n",
              "</style>\n",
              "<table border=\"1\" class=\"dataframe\">\n",
              "  <thead>\n",
              "    <tr style=\"text-align: right;\">\n",
              "      <th></th>\n",
              "      <th>tripduration</th>\n",
              "      <th>starttime</th>\n",
              "      <th>stoptime</th>\n",
              "      <th>start station id</th>\n",
              "      <th>start_station_name</th>\n",
              "      <th>start_station_latitude</th>\n",
              "      <th>start_station_longitude</th>\n",
              "      <th>end_station_id</th>\n",
              "      <th>end_station_name</th>\n",
              "      <th>end_station_latitude</th>\n",
              "      <th>end_station_longitude</th>\n",
              "      <th>bikeid</th>\n",
              "      <th>usertype</th>\n",
              "      <th>birth_year</th>\n",
              "      <th>gender</th>\n",
              "    </tr>\n",
              "  </thead>\n",
              "  <tbody>\n",
              "    <tr>\n",
              "      <th>0</th>\n",
              "      <td>547</td>\n",
              "      <td>2013-07-03 18:54:45</td>\n",
              "      <td>2013-07-03 19:03:52</td>\n",
              "      <td>376</td>\n",
              "      <td>John St &amp; William St</td>\n",
              "      <td>40.708621</td>\n",
              "      <td>-74.007222</td>\n",
              "      <td>309</td>\n",
              "      <td>Murray St &amp; West St</td>\n",
              "      <td>40.714979</td>\n",
              "      <td>-74.013012</td>\n",
              "      <td>20220</td>\n",
              "      <td>Subscriber</td>\n",
              "      <td>1983</td>\n",
              "      <td>1</td>\n",
              "    </tr>\n",
              "    <tr>\n",
              "      <th>1</th>\n",
              "      <td>354</td>\n",
              "      <td>2013-07-03 18:55:04</td>\n",
              "      <td>2013-07-03 19:00:58</td>\n",
              "      <td>270</td>\n",
              "      <td>Adelphi St &amp; Myrtle Ave</td>\n",
              "      <td>40.693083</td>\n",
              "      <td>-73.971789</td>\n",
              "      <td>274</td>\n",
              "      <td>Lafayette Ave &amp; Fort Greene Pl</td>\n",
              "      <td>40.686919</td>\n",
              "      <td>-73.976682</td>\n",
              "      <td>16322</td>\n",
              "      <td>Customer</td>\n",
              "      <td>N</td>\n",
              "      <td>0</td>\n",
              "    </tr>\n",
              "    <tr>\n",
              "      <th>2</th>\n",
              "      <td>775</td>\n",
              "      <td>2013-07-03 18:55:17</td>\n",
              "      <td>2013-07-03 19:08:12</td>\n",
              "      <td>401</td>\n",
              "      <td>Allen St &amp; Rivington St</td>\n",
              "      <td>40.720196</td>\n",
              "      <td>-73.989978</td>\n",
              "      <td>330</td>\n",
              "      <td>Reade St &amp; Broadway</td>\n",
              "      <td>40.714505</td>\n",
              "      <td>-74.005628</td>\n",
              "      <td>20026</td>\n",
              "      <td>Customer</td>\n",
              "      <td>N</td>\n",
              "      <td>0</td>\n",
              "    </tr>\n",
              "    <tr>\n",
              "      <th>3</th>\n",
              "      <td>1105</td>\n",
              "      <td>2013-07-03 18:55:29</td>\n",
              "      <td>2013-07-03 19:13:54</td>\n",
              "      <td>459</td>\n",
              "      <td>W 20 St &amp; 11 Ave</td>\n",
              "      <td>40.746745</td>\n",
              "      <td>-74.007756</td>\n",
              "      <td>403</td>\n",
              "      <td>E 2 St &amp; 2 Ave</td>\n",
              "      <td>40.725029</td>\n",
              "      <td>-73.990697</td>\n",
              "      <td>18774</td>\n",
              "      <td>Customer</td>\n",
              "      <td>N</td>\n",
              "      <td>0</td>\n",
              "    </tr>\n",
              "    <tr>\n",
              "      <th>4</th>\n",
              "      <td>519</td>\n",
              "      <td>2013-07-03 18:55:30</td>\n",
              "      <td>2013-07-03 19:04:09</td>\n",
              "      <td>347</td>\n",
              "      <td>W Houston St &amp; Hudson St</td>\n",
              "      <td>40.728739</td>\n",
              "      <td>-74.007488</td>\n",
              "      <td>151</td>\n",
              "      <td>Cleveland Pl &amp; Spring St</td>\n",
              "      <td>40.721816</td>\n",
              "      <td>-73.997203</td>\n",
              "      <td>16476</td>\n",
              "      <td>Subscriber</td>\n",
              "      <td>1971</td>\n",
              "      <td>1</td>\n",
              "    </tr>\n",
              "  </tbody>\n",
              "</table>\n",
              "</div>\n",
              "      <button class=\"colab-df-convert\" onclick=\"convertToInteractive('df-2ab272ab-4c78-4522-bc97-b20d827395c4')\"\n",
              "              title=\"Convert this dataframe to an interactive table.\"\n",
              "              style=\"display:none;\">\n",
              "        \n",
              "  <svg xmlns=\"http://www.w3.org/2000/svg\" height=\"24px\"viewBox=\"0 0 24 24\"\n",
              "       width=\"24px\">\n",
              "    <path d=\"M0 0h24v24H0V0z\" fill=\"none\"/>\n",
              "    <path d=\"M18.56 5.44l.94 2.06.94-2.06 2.06-.94-2.06-.94-.94-2.06-.94 2.06-2.06.94zm-11 1L8.5 8.5l.94-2.06 2.06-.94-2.06-.94L8.5 2.5l-.94 2.06-2.06.94zm10 10l.94 2.06.94-2.06 2.06-.94-2.06-.94-.94-2.06-.94 2.06-2.06.94z\"/><path d=\"M17.41 7.96l-1.37-1.37c-.4-.4-.92-.59-1.43-.59-.52 0-1.04.2-1.43.59L10.3 9.45l-7.72 7.72c-.78.78-.78 2.05 0 2.83L4 21.41c.39.39.9.59 1.41.59.51 0 1.02-.2 1.41-.59l7.78-7.78 2.81-2.81c.8-.78.8-2.07 0-2.86zM5.41 20L4 18.59l7.72-7.72 1.47 1.35L5.41 20z\"/>\n",
              "  </svg>\n",
              "      </button>\n",
              "      \n",
              "  <style>\n",
              "    .colab-df-container {\n",
              "      display:flex;\n",
              "      flex-wrap:wrap;\n",
              "      gap: 12px;\n",
              "    }\n",
              "\n",
              "    .colab-df-convert {\n",
              "      background-color: #E8F0FE;\n",
              "      border: none;\n",
              "      border-radius: 50%;\n",
              "      cursor: pointer;\n",
              "      display: none;\n",
              "      fill: #1967D2;\n",
              "      height: 32px;\n",
              "      padding: 0 0 0 0;\n",
              "      width: 32px;\n",
              "    }\n",
              "\n",
              "    .colab-df-convert:hover {\n",
              "      background-color: #E2EBFA;\n",
              "      box-shadow: 0px 1px 2px rgba(60, 64, 67, 0.3), 0px 1px 3px 1px rgba(60, 64, 67, 0.15);\n",
              "      fill: #174EA6;\n",
              "    }\n",
              "\n",
              "    [theme=dark] .colab-df-convert {\n",
              "      background-color: #3B4455;\n",
              "      fill: #D2E3FC;\n",
              "    }\n",
              "\n",
              "    [theme=dark] .colab-df-convert:hover {\n",
              "      background-color: #434B5C;\n",
              "      box-shadow: 0px 1px 3px 1px rgba(0, 0, 0, 0.15);\n",
              "      filter: drop-shadow(0px 1px 2px rgba(0, 0, 0, 0.3));\n",
              "      fill: #FFFFFF;\n",
              "    }\n",
              "  </style>\n",
              "\n",
              "      <script>\n",
              "        const buttonEl =\n",
              "          document.querySelector('#df-2ab272ab-4c78-4522-bc97-b20d827395c4 button.colab-df-convert');\n",
              "        buttonEl.style.display =\n",
              "          google.colab.kernel.accessAllowed ? 'block' : 'none';\n",
              "\n",
              "        async function convertToInteractive(key) {\n",
              "          const element = document.querySelector('#df-2ab272ab-4c78-4522-bc97-b20d827395c4');\n",
              "          const dataTable =\n",
              "            await google.colab.kernel.invokeFunction('convertToInteractive',\n",
              "                                                     [key], {});\n",
              "          if (!dataTable) return;\n",
              "\n",
              "          const docLinkHtml = 'Like what you see? Visit the ' +\n",
              "            '<a target=\"_blank\" href=https://colab.research.google.com/notebooks/data_table.ipynb>data table notebook</a>'\n",
              "            + ' to learn more about interactive tables.';\n",
              "          element.innerHTML = '';\n",
              "          dataTable['output_type'] = 'display_data';\n",
              "          await google.colab.output.renderOutput(dataTable, element);\n",
              "          const docLink = document.createElement('div');\n",
              "          docLink.innerHTML = docLinkHtml;\n",
              "          element.appendChild(docLink);\n",
              "        }\n",
              "      </script>\n",
              "    </div>\n",
              "  </div>\n",
              "  "
            ],
            "text/plain": [
              "   tripduration           starttime  ... birth_year  gender\n",
              "0           547 2013-07-03 18:54:45  ...       1983       1\n",
              "1           354 2013-07-03 18:55:04  ...          N       0\n",
              "2           775 2013-07-03 18:55:17  ...          N       0\n",
              "3          1105 2013-07-03 18:55:29  ...          N       0\n",
              "4           519 2013-07-03 18:55:30  ...       1971       1\n",
              "\n",
              "[5 rows x 15 columns]"
            ]
          },
          "metadata": {},
          "execution_count": 27
        }
      ]
    },
    {
      "cell_type": "code",
      "source": [
        "data10.info()"
      ],
      "metadata": {
        "colab": {
          "base_uri": "https://localhost:8080/"
        },
        "id": "I2pLjMHofKpf",
        "outputId": "bfe18a37-d1fc-46fa-ee6f-2fe40f484661"
      },
      "execution_count": null,
      "outputs": [
        {
          "output_type": "stream",
          "name": "stdout",
          "text": [
            "<class 'pandas.core.frame.DataFrame'>\n",
            "RangeIndex: 873416 entries, 0 to 873415\n",
            "Data columns (total 15 columns):\n",
            " #   Column                   Non-Null Count   Dtype         \n",
            "---  ------                   --------------   -----         \n",
            " 0   tripduration             873416 non-null  int64         \n",
            " 1   starttime                873416 non-null  datetime64[ns]\n",
            " 2   stoptime                 873416 non-null  datetime64[ns]\n",
            " 3   start station id         873416 non-null  int64         \n",
            " 4   start_station_name       873416 non-null  object        \n",
            " 5   start_station_latitude   873416 non-null  float64       \n",
            " 6   start_station_longitude  873416 non-null  float64       \n",
            " 7   end_station_id           873416 non-null  int64         \n",
            " 8   end_station_name         873416 non-null  object        \n",
            " 9   end_station_latitude     873416 non-null  float64       \n",
            " 10  end_station_longitude    873416 non-null  float64       \n",
            " 11  bikeid                   873416 non-null  int64         \n",
            " 12  usertype                 873416 non-null  object        \n",
            " 13  birth_year               873416 non-null  object        \n",
            " 14  gender                   873416 non-null  int64         \n",
            "dtypes: datetime64[ns](2), float64(4), int64(5), object(4)\n",
            "memory usage: 100.0+ MB\n"
          ]
        }
      ]
    },
    {
      "cell_type": "code",
      "source": [
        "#query dari digitalskola\n",
        "\n",
        "sql = \"\"\"WITH t1 AS\n",
        "              (SELECT b.tripduration, a.name as station_name, b.starttime \n",
        "              FROM batch_11.cb_stations as a\n",
        "              JOIN batch_11.cb_trips as b\n",
        "              on a.station_id = b.end_station_id\n",
        "            )\n",
        "\n",
        "          SELECT station_name, sum(tripduraion) as total_trip_duration\n",
        "          from T1\n",
        "          where station_name like '%Clermont%'\n",
        "          group by 1\n",
        "          having sum(tripduration) < 3000000\n",
        "          \"\"\"\n",
        "  data2 = pd.read_sql_query(sql, conn)\n",
        "  data2.head()"
      ],
      "metadata": {
        "colab": {
          "base_uri": "https://localhost:8080/",
          "height": 131
        },
        "id": "ubotyBBfKUpu",
        "outputId": "590d0e2d-0cfd-416c-bbc1-bc8d739fc506"
      },
      "execution_count": null,
      "outputs": [
        {
          "output_type": "error",
          "ename": "IndentationError",
          "evalue": "ignored",
          "traceback": [
            "\u001b[0;36m  File \u001b[0;32m\"<ipython-input-122-b40e31d05548>\"\u001b[0;36m, line \u001b[0;32m16\u001b[0m\n\u001b[0;31m    data2 = pd.read_sql_query(sql, conn)\u001b[0m\n\u001b[0m    ^\u001b[0m\n\u001b[0;31mIndentationError\u001b[0m\u001b[0;31m:\u001b[0m unexpected indent\n"
          ]
        }
      ]
    },
    {
      "cell_type": "code",
      "source": [
        "#diganti start station error \n",
        "sql = \"\"\"\n",
        "      with\n",
        "        t1 as\n",
        "        (\n",
        "          select\n",
        "          cs.name,\n",
        "          ct.tripduration\n",
        "          from batch_11.cb_trips ct\n",
        "          join batch_11.cb_stations cs\n",
        "          on cs.station_id = ct.end_station_id\n",
        "        )\n",
        "\n",
        "      select\n",
        "        t1.name,\n",
        "        sum(t1.tripduration)\n",
        "      from t1\n",
        "      where lower(t1.name) like '%clermont%'\n",
        "      group by 1\n",
        "      having sum(t1.tripduration) > 86400\n",
        "          \"\"\"\n",
        "data2 = pd.read_sql_query(sql, conn)\n",
        "data2.head()"
      ],
      "metadata": {
        "colab": {
          "base_uri": "https://localhost:8080/",
          "height": 143
        },
        "id": "ZmjV7cQaTjlc",
        "outputId": "54681b56-a6bf-422d-d1ba-5d0efb33792f"
      },
      "execution_count": null,
      "outputs": [
        {
          "output_type": "execute_result",
          "data": {
            "text/html": [
              "\n",
              "  <div id=\"df-d3daeeac-dfbb-49bb-b5eb-f45e78d69619\">\n",
              "    <div class=\"colab-df-container\">\n",
              "      <div>\n",
              "<style scoped>\n",
              "    .dataframe tbody tr th:only-of-type {\n",
              "        vertical-align: middle;\n",
              "    }\n",
              "\n",
              "    .dataframe tbody tr th {\n",
              "        vertical-align: top;\n",
              "    }\n",
              "\n",
              "    .dataframe thead th {\n",
              "        text-align: right;\n",
              "    }\n",
              "</style>\n",
              "<table border=\"1\" class=\"dataframe\">\n",
              "  <thead>\n",
              "    <tr style=\"text-align: right;\">\n",
              "      <th></th>\n",
              "      <th>name</th>\n",
              "      <th>sum</th>\n",
              "    </tr>\n",
              "  </thead>\n",
              "  <tbody>\n",
              "    <tr>\n",
              "      <th>0</th>\n",
              "      <td>Clermont Ave &amp; Lafayette Ave</td>\n",
              "      <td>760813</td>\n",
              "    </tr>\n",
              "    <tr>\n",
              "      <th>1</th>\n",
              "      <td>Clermont Ave &amp; Park Ave</td>\n",
              "      <td>332556</td>\n",
              "    </tr>\n",
              "    <tr>\n",
              "      <th>2</th>\n",
              "      <td>Fulton St &amp; Clermont Ave</td>\n",
              "      <td>860286</td>\n",
              "    </tr>\n",
              "  </tbody>\n",
              "</table>\n",
              "</div>\n",
              "      <button class=\"colab-df-convert\" onclick=\"convertToInteractive('df-d3daeeac-dfbb-49bb-b5eb-f45e78d69619')\"\n",
              "              title=\"Convert this dataframe to an interactive table.\"\n",
              "              style=\"display:none;\">\n",
              "        \n",
              "  <svg xmlns=\"http://www.w3.org/2000/svg\" height=\"24px\"viewBox=\"0 0 24 24\"\n",
              "       width=\"24px\">\n",
              "    <path d=\"M0 0h24v24H0V0z\" fill=\"none\"/>\n",
              "    <path d=\"M18.56 5.44l.94 2.06.94-2.06 2.06-.94-2.06-.94-.94-2.06-.94 2.06-2.06.94zm-11 1L8.5 8.5l.94-2.06 2.06-.94-2.06-.94L8.5 2.5l-.94 2.06-2.06.94zm10 10l.94 2.06.94-2.06 2.06-.94-2.06-.94-.94-2.06-.94 2.06-2.06.94z\"/><path d=\"M17.41 7.96l-1.37-1.37c-.4-.4-.92-.59-1.43-.59-.52 0-1.04.2-1.43.59L10.3 9.45l-7.72 7.72c-.78.78-.78 2.05 0 2.83L4 21.41c.39.39.9.59 1.41.59.51 0 1.02-.2 1.41-.59l7.78-7.78 2.81-2.81c.8-.78.8-2.07 0-2.86zM5.41 20L4 18.59l7.72-7.72 1.47 1.35L5.41 20z\"/>\n",
              "  </svg>\n",
              "      </button>\n",
              "      \n",
              "  <style>\n",
              "    .colab-df-container {\n",
              "      display:flex;\n",
              "      flex-wrap:wrap;\n",
              "      gap: 12px;\n",
              "    }\n",
              "\n",
              "    .colab-df-convert {\n",
              "      background-color: #E8F0FE;\n",
              "      border: none;\n",
              "      border-radius: 50%;\n",
              "      cursor: pointer;\n",
              "      display: none;\n",
              "      fill: #1967D2;\n",
              "      height: 32px;\n",
              "      padding: 0 0 0 0;\n",
              "      width: 32px;\n",
              "    }\n",
              "\n",
              "    .colab-df-convert:hover {\n",
              "      background-color: #E2EBFA;\n",
              "      box-shadow: 0px 1px 2px rgba(60, 64, 67, 0.3), 0px 1px 3px 1px rgba(60, 64, 67, 0.15);\n",
              "      fill: #174EA6;\n",
              "    }\n",
              "\n",
              "    [theme=dark] .colab-df-convert {\n",
              "      background-color: #3B4455;\n",
              "      fill: #D2E3FC;\n",
              "    }\n",
              "\n",
              "    [theme=dark] .colab-df-convert:hover {\n",
              "      background-color: #434B5C;\n",
              "      box-shadow: 0px 1px 3px 1px rgba(0, 0, 0, 0.15);\n",
              "      filter: drop-shadow(0px 1px 2px rgba(0, 0, 0, 0.3));\n",
              "      fill: #FFFFFF;\n",
              "    }\n",
              "  </style>\n",
              "\n",
              "      <script>\n",
              "        const buttonEl =\n",
              "          document.querySelector('#df-d3daeeac-dfbb-49bb-b5eb-f45e78d69619 button.colab-df-convert');\n",
              "        buttonEl.style.display =\n",
              "          google.colab.kernel.accessAllowed ? 'block' : 'none';\n",
              "\n",
              "        async function convertToInteractive(key) {\n",
              "          const element = document.querySelector('#df-d3daeeac-dfbb-49bb-b5eb-f45e78d69619');\n",
              "          const dataTable =\n",
              "            await google.colab.kernel.invokeFunction('convertToInteractive',\n",
              "                                                     [key], {});\n",
              "          if (!dataTable) return;\n",
              "\n",
              "          const docLinkHtml = 'Like what you see? Visit the ' +\n",
              "            '<a target=\"_blank\" href=https://colab.research.google.com/notebooks/data_table.ipynb>data table notebook</a>'\n",
              "            + ' to learn more about interactive tables.';\n",
              "          element.innerHTML = '';\n",
              "          dataTable['output_type'] = 'display_data';\n",
              "          await google.colab.output.renderOutput(dataTable, element);\n",
              "          const docLink = document.createElement('div');\n",
              "          docLink.innerHTML = docLinkHtml;\n",
              "          element.appendChild(docLink);\n",
              "        }\n",
              "      </script>\n",
              "    </div>\n",
              "  </div>\n",
              "  "
            ],
            "text/plain": [
              "                           name     sum\n",
              "0  Clermont Ave & Lafayette Ave  760813\n",
              "1       Clermont Ave & Park Ave  332556\n",
              "2      Fulton St & Clermont Ave  860286"
            ]
          },
          "metadata": {},
          "execution_count": 35
        }
      ]
    },
    {
      "cell_type": "markdown",
      "source": [
        "**Homework**"
      ],
      "metadata": {
        "id": "FAUMRQTWIn_2"
      }
    },
    {
      "cell_type": "code",
      "source": [
        "#query dari Homework\n",
        "sql = \"\"\"\n",
        "      with\n",
        "        t1 as\n",
        "        (\n",
        "          select\n",
        "          cs.name,\n",
        "          cs.region_id\n",
        "          cs.rental_methods\n",
        "          ct.tripduration\n",
        "          from batch_11.cb_trips ct\n",
        "          join batch_11.cb_stations cs\n",
        "          on cs.station_id = ct.start station id\n",
        "        )\n",
        "\n",
        "      select\n",
        "        t1.name,\n",
        "        sum(t1.tripduration)\n",
        "      from t1\n",
        "      group by 1\n",
        "      having sum(t1.tripduration) > 86400\n",
        "          \"\"\"\n",
        "data3 = pd.read_sql_query(sql, conn)\n",
        "data3.head()"
      ],
      "metadata": {
        "id": "Hgs4oBTPYu1h"
      },
      "execution_count": null,
      "outputs": []
    },
    {
      "cell_type": "code",
      "source": [
        ""
      ],
      "metadata": {
        "id": "V-8wWHewr_vV"
      },
      "execution_count": null,
      "outputs": []
    }
  ]
}